{
 "cells": [
  {
   "cell_type": "code",
   "execution_count": 1,
   "metadata": {},
   "outputs": [],
   "source": [
    "from training.run import Run\n",
    "from evaluation import metrics"
   ]
  },
  {
   "cell_type": "code",
   "execution_count": 2,
   "metadata": {},
   "outputs": [],
   "source": [
    "def make_config(model_name, pca):\n",
    "    if pca != 0:\n",
    "        return {'model_name': model_name, 'features': 'all', 'train_size': 80, \n",
    "                  'test_size': 20, 'pca': pca, 'pt_cut': 'low'}\n",
    "    else:\n",
    "        return {'model_name': model_name, 'features': ['mass', 'd2'], 'train_size': 80, \n",
    "                  'test_size': 20, 'pt_cut': 'low'}"
   ]
  },
  {
   "cell_type": "code",
   "execution_count": 3,
   "metadata": {},
   "outputs": [],
   "source": [
    "config = make_config('qsvm_kernel', pca=4)"
   ]
  },
  {
   "cell_type": "code",
   "execution_count": 4,
   "metadata": {},
   "outputs": [
    {
     "name": "stderr",
     "output_type": "stream",
     "text": [
      "Due to the limited entangler_map, IZIZ is skipped.\n",
      "Due to the limited entangler_map, ZIIZ is skipped.\n",
      "Due to the limited entangler_map, ZIZI is skipped.\n"
     ]
    },
    {
     "name": "stdout",
     "output_type": "stream",
     "text": [
      "Total training time: 128.16631293296814 s\n",
      "Total testing time: 42.97154664993286 s\n",
      "Printing metrics for run at /home/schuya/qsvm_jet_tagging/results/001.\n",
      "\tTesting accuracy = 0.55\n",
      "\tsupport = 66/80\n",
      "\tTraining accuracy = 1.0\n",
      "\tTraining time = 128.16631293296814\n",
      "\tTesting time = 42.97154664993286\n"
     ]
    }
   ],
   "source": [
    "run = Run(config)\n",
    "metrics.print_metrics(run)"
   ]
  },
  {
   "cell_type": "code",
   "execution_count": null,
   "metadata": {},
   "outputs": [],
   "source": []
  }
 ],
 "metadata": {
  "kernelspec": {
   "display_name": "Python 3",
   "language": "python",
   "name": "python3"
  },
  "language_info": {
   "codemirror_mode": {
    "name": "ipython",
    "version": 3
   },
   "file_extension": ".py",
   "mimetype": "text/x-python",
   "name": "python",
   "nbconvert_exporter": "python",
   "pygments_lexer": "ipython3",
   "version": "3.6.7"
  }
 },
 "nbformat": 4,
 "nbformat_minor": 2
}
